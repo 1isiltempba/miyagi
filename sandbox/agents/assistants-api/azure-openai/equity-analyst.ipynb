{
 "cells": [
  {
   "cell_type": "markdown",
   "metadata": {},
   "source": [
    "# Equity Analyst Agent with Assistants API\n",
    "\n",
    "### This notebook showcases the capabilities of Azure OpenAI's Assistants API for an Equity Analyst Agent. "
   ]
  },
  {
   "cell_type": "markdown",
   "metadata": {},
   "source": [
    "Install the necessary Python packages (openai, matplotlib, tenacity, python-dotenv) for the notebook to function."
   ]
  },
  {
   "cell_type": "code",
   "execution_count": 1,
   "metadata": {},
   "outputs": [
    {
     "name": "stdout",
     "output_type": "stream",
     "text": [
      "Requirement already satisfied: openai in c:\\users\\gok\\appdata\\local\\anaconda3\\envs\\aoai\\lib\\site-packages (1.11.1)\n",
      "Requirement already satisfied: matplotlib in c:\\users\\gok\\appdata\\local\\anaconda3\\envs\\aoai\\lib\\site-packages (3.8.2)\n",
      "Requirement already satisfied: tenacity in c:\\users\\gok\\appdata\\local\\anaconda3\\envs\\aoai\\lib\\site-packages (8.2.3)\n",
      "Requirement already satisfied: python-dotenv in c:\\users\\gok\\appdata\\local\\anaconda3\\envs\\aoai\\lib\\site-packages (1.0.1)\n",
      "Requirement already satisfied: anyio<5,>=3.5.0 in c:\\users\\gok\\appdata\\local\\anaconda3\\envs\\aoai\\lib\\site-packages (from openai) (4.2.0)\n",
      "Requirement already satisfied: distro<2,>=1.7.0 in c:\\users\\gok\\appdata\\local\\anaconda3\\envs\\aoai\\lib\\site-packages (from openai) (1.9.0)\n",
      "Requirement already satisfied: httpx<1,>=0.23.0 in c:\\users\\gok\\appdata\\local\\anaconda3\\envs\\aoai\\lib\\site-packages (from openai) (0.26.0)\n",
      "Requirement already satisfied: pydantic<3,>=1.9.0 in c:\\users\\gok\\appdata\\local\\anaconda3\\envs\\aoai\\lib\\site-packages (from openai) (2.6.1)\n",
      "Requirement already satisfied: sniffio in c:\\users\\gok\\appdata\\local\\anaconda3\\envs\\aoai\\lib\\site-packages (from openai) (1.3.0)\n",
      "Requirement already satisfied: tqdm>4 in c:\\users\\gok\\appdata\\local\\anaconda3\\envs\\aoai\\lib\\site-packages (from openai) (4.66.1)\n",
      "Requirement already satisfied: typing-extensions<5,>=4.7 in c:\\users\\gok\\appdata\\local\\anaconda3\\envs\\aoai\\lib\\site-packages (from openai) (4.9.0)\n",
      "Requirement already satisfied: contourpy>=1.0.1 in c:\\users\\gok\\appdata\\local\\anaconda3\\envs\\aoai\\lib\\site-packages (from matplotlib) (1.2.0)\n",
      "Requirement already satisfied: cycler>=0.10 in c:\\users\\gok\\appdata\\local\\anaconda3\\envs\\aoai\\lib\\site-packages (from matplotlib) (0.12.1)\n",
      "Requirement already satisfied: fonttools>=4.22.0 in c:\\users\\gok\\appdata\\local\\anaconda3\\envs\\aoai\\lib\\site-packages (from matplotlib) (4.48.1)\n",
      "Requirement already satisfied: kiwisolver>=1.3.1 in c:\\users\\gok\\appdata\\local\\anaconda3\\envs\\aoai\\lib\\site-packages (from matplotlib) (1.4.5)\n",
      "Requirement already satisfied: numpy<2,>=1.21 in c:\\users\\gok\\appdata\\local\\anaconda3\\envs\\aoai\\lib\\site-packages (from matplotlib) (1.26.4)\n",
      "Requirement already satisfied: packaging>=20.0 in c:\\users\\gok\\appdata\\local\\anaconda3\\envs\\aoai\\lib\\site-packages (from matplotlib) (23.2)\n",
      "Requirement already satisfied: pillow>=8 in c:\\users\\gok\\appdata\\local\\anaconda3\\envs\\aoai\\lib\\site-packages (from matplotlib) (10.2.0)\n",
      "Requirement already satisfied: pyparsing>=2.3.1 in c:\\users\\gok\\appdata\\local\\anaconda3\\envs\\aoai\\lib\\site-packages (from matplotlib) (3.1.1)\n",
      "Requirement already satisfied: python-dateutil>=2.7 in c:\\users\\gok\\appdata\\local\\anaconda3\\envs\\aoai\\lib\\site-packages (from matplotlib) (2.8.2)\n",
      "Requirement already satisfied: idna>=2.8 in c:\\users\\gok\\appdata\\local\\anaconda3\\envs\\aoai\\lib\\site-packages (from anyio<5,>=3.5.0->openai) (3.6)\n",
      "Requirement already satisfied: certifi in c:\\users\\gok\\appdata\\local\\anaconda3\\envs\\aoai\\lib\\site-packages (from httpx<1,>=0.23.0->openai) (2024.2.2)\n",
      "Requirement already satisfied: httpcore==1.* in c:\\users\\gok\\appdata\\local\\anaconda3\\envs\\aoai\\lib\\site-packages (from httpx<1,>=0.23.0->openai) (1.0.2)\n",
      "Requirement already satisfied: h11<0.15,>=0.13 in c:\\users\\gok\\appdata\\local\\anaconda3\\envs\\aoai\\lib\\site-packages (from httpcore==1.*->httpx<1,>=0.23.0->openai) (0.14.0)\n",
      "Requirement already satisfied: annotated-types>=0.4.0 in c:\\users\\gok\\appdata\\local\\anaconda3\\envs\\aoai\\lib\\site-packages (from pydantic<3,>=1.9.0->openai) (0.6.0)\n",
      "Requirement already satisfied: pydantic-core==2.16.2 in c:\\users\\gok\\appdata\\local\\anaconda3\\envs\\aoai\\lib\\site-packages (from pydantic<3,>=1.9.0->openai) (2.16.2)\n",
      "Requirement already satisfied: six>=1.5 in c:\\users\\gok\\appdata\\local\\anaconda3\\envs\\aoai\\lib\\site-packages (from python-dateutil>=2.7->matplotlib) (1.16.0)\n",
      "Requirement already satisfied: colorama in c:\\users\\gok\\appdata\\local\\anaconda3\\envs\\aoai\\lib\\site-packages (from tqdm>4->openai) (0.4.6)\n",
      "Note: you may need to restart the kernel to use updated packages.\n"
     ]
    }
   ],
   "source": [
    "%pip install openai matplotlib tenacity python-dotenv"
   ]
  },
  {
   "cell_type": "markdown",
   "metadata": {},
   "source": [
    "Imports the necessary Python modules and classes used in the notebook. Note the openai module is used to interact with the Assistants API."
   ]
  },
  {
   "cell_type": "code",
   "execution_count": 2,
   "metadata": {},
   "outputs": [],
   "source": [
    "import io\n",
    "import os\n",
    "from datetime import datetime\n",
    "from pathlib import Path\n",
    "import matplotlib.pyplot as plt\n",
    "from typing import Iterable\n",
    "from dotenv import load_dotenv\n",
    "from openai import AzureOpenAI\n",
    "from openai.types import FileObject\n",
    "from openai.types.beta.threads.message_content_image_file import MessageContentImageFile\n",
    "from openai.types.beta.threads.message_content_text import MessageContentText\n",
    "from openai.types.beta.threads.messages import MessageFile"
   ]
  },
  {
   "cell_type": "markdown",
   "metadata": {},
   "source": [
    "### Environment Configuration\n",
    "This cell is crucial for setting up the environment configuration necessary for the notebook to interact with Azure OpenAI. \n",
    "\n",
    "- **Requirement**: Ensure that a `.env` file exists in the same directory as this notebook. This file should contain the necessary API credentials and configuration details, which you can obtain from https://ai.azure.com \n",
    "- **Keys in .env File**: The `.env` file must include the following keys:\n",
    "  - `OPENAI_ENDPOINT`: The endpoint URL for the Azure OpenAI service.\n",
    "  - `OPENAI_API_KEY`: Your API key for accessing Azure OpenAI services.\n",
    "  - `OPENAI_MODEL_NAME`: The name of the specific Azure OpenAI model you intend to use.\n"
   ]
  },
  {
   "cell_type": "code",
   "execution_count": 3,
   "metadata": {},
   "outputs": [],
   "source": [
    "load_dotenv(\".env\")\n",
    "api_endpoint = os.getenv(\"OPENAI_ENDPOINT\")\n",
    "api_key = os.getenv(\"OPENAI_API_KEY\")\n",
    "api_deployment_name = os.getenv(\"OPENAI_MODEL_NAME\")\n",
    "api_version = \"2024-02-15-preview\""
   ]
  },
  {
   "cell_type": "markdown",
   "metadata": {},
   "source": [
    "### Initializing Azure OpenAI Client\n",
    "\n",
    "Initializes `AzureOpenAI` client with necessary credentials and configurations:\n",
    "- `api_key`: API key for authentication.\n",
    "- `api_version`: Targeted API version, set to `\"2024-02-15-preview\"`.\n",
    "- `azure_endpoint`: Endpoint URL for Azure OpenAI services.\n",
    "\n",
    "This step is crucial for establishing communication with Azure OpenAI services.\n"
   ]
  },
  {
   "cell_type": "code",
   "execution_count": 4,
   "metadata": {},
   "outputs": [],
   "source": [
    "client = AzureOpenAI(api_key=api_key, \n",
    "                     api_version=api_version, \n",
    "                     azure_endpoint=api_endpoint)"
   ]
  },
  {
   "cell_type": "markdown",
   "metadata": {},
   "source": [
    "### Create the assistant with tools"
   ]
  },
  {
   "cell_type": "code",
   "execution_count": 5,
   "metadata": {},
   "outputs": [],
   "source": [
    "tools_list = [{\"type\": \"code_interpreter\"}]"
   ]
  },
  {
   "cell_type": "code",
   "execution_count": 12,
   "metadata": {},
   "outputs": [],
   "source": [
    "DATASETS = \"datasets/\"\n",
    "\n",
    "def upload_file(client: AzureOpenAI, path: Path) -> FileObject:\n",
    "    with path.open(\"rb\") as f:\n",
    "        return client.files.create(file=f, purpose=\"assistants\")\n",
    "\n",
    "assistant_files = [upload_file(client, Path(DATASETS) / file) for file in os.listdir(DATASETS)]\n",
    "file_ids = [file.id for file in assistant_files]"
   ]
  },
  {
   "cell_type": "code",
   "execution_count": 13,
   "metadata": {},
   "outputs": [],
   "source": [
    "assistant = client.beta.assistants.create(\n",
    "    name=\"Equity Analyst\",\n",
    "    instructions=(\"You are an equity analyst that performs analysis on the given datasets. \"\n",
    "                  \"Use the provided file only.\"),\n",
    "    tools=tools_list,\n",
    "    model=api_deployment_name,\n",
    "    file_ids=file_ids,\n",
    ")\n",
    "\n",
    "thread = client.beta.threads.create()"
   ]
  },
  {
   "cell_type": "code",
   "execution_count": 14,
   "metadata": {},
   "outputs": [],
   "source": [
    "def format_messages(messages: Iterable[MessageFile]) -> None:\n",
    "\n",
    "    message_list = []\n",
    "\n",
    "    # Iterate through the messages and break when a user message is encountered\n",
    "    for message in messages:\n",
    "        message_list.append(message)\n",
    "        if message.role == \"user\":\n",
    "            break\n",
    "\n",
    "    # Reverse the list of messages\n",
    "    message_list = message_list[::-1]\n",
    "\n",
    "    for message in message_list:\n",
    "        for item in message.content:\n",
    "            if isinstance(item, MessageContentText):\n",
    "                print(f\"{message.role}:\\n{item.text.value}\\n\")\n",
    "            elif isinstance(item, MessageContentImageFile):\n",
    "                try:\n",
    "                    response_content = client.files.content(item.image_file.file_id)\n",
    "                    data_in_bytes = response_content.read()\n",
    "                    readable_buffer = io.BytesIO(data_in_bytes)\n",
    "                    image = plt.imread(readable_buffer, format='jpeg')\n",
    "                    plt.imshow(image)\n",
    "                    plt.axis('off')\n",
    "                    plt.show()\n",
    "                except Exception as e:\n",
    "                    print(f\"Exception: {e}\")"
   ]
  },
  {
   "cell_type": "code",
   "execution_count": 15,
   "metadata": {},
   "outputs": [],
   "source": [
    "from tenacity import retry, stop_after_attempt, wait_exponential, RetryError, retry_if_exception_type\n",
    "\n",
    "# Custom exception for specific retry condition\n",
    "class NotCompletedException(Exception):\n",
    "    pass\n",
    "\n",
    "@retry(stop=stop_after_attempt(15), \n",
    "       wait=wait_exponential(multiplier=1.5, min=4, max=20),\n",
    "       retry=retry_if_exception_type(NotCompletedException))\n",
    "def check_run_status(thread_id, run_id):\n",
    "    run = client.beta.threads.runs.retrieve(thread_id=thread_id, run_id=run_id)\n",
    "    if run.status in [\"completed\", \"failed\", \"expired\", \"cancelled\"]:\n",
    "        return run\n",
    "    elif run.status == \"requires_action\":\n",
    "        # Handle cases that require action differently\n",
    "        # For example, you might not want to retry in this case\n",
    "        pass\n",
    "    else:\n",
    "        # This will cause a retry for statuses not explicitly handled above\n",
    "        raise NotCompletedException(\"Run not completed yet\")\n",
    "\n",
    "def process_message(content: str):\n",
    "    client.beta.threads.messages.create(thread_id=thread.id, role=\"user\", content=content)\n",
    "\n",
    "    run = client.beta.threads.runs.create(\n",
    "        thread_id=thread.id,\n",
    "        assistant_id=assistant.id,\n",
    "        instructions=f\"You are a equity analyst who maps out the ask of the user to an equity analyst's task and thinks step by step to analyze, including making use of the tools.\",\n",
    "    )\n",
    "\n",
    "    try:\n",
    "        run = check_run_status(thread.id, run.id)\n",
    "        messages = client.beta.threads.messages.list(thread_id=thread.id)\n",
    "        format_messages(messages)\n",
    "    except RetryError:\n",
    "        print(\"Operation failed or timed out after maximum retries.\")\n",
    "    except NotCompletedException:\n",
    "        print(\"Operation did not complete in the expected status.\")\n"
   ]
  },
  {
   "cell_type": "markdown",
   "metadata": {},
   "source": [
    "### Have the model perform a DCF valuation"
   ]
  },
  {
   "cell_type": "code",
   "execution_count": 17,
   "metadata": {},
   "outputs": [
    {
     "name": "stdout",
     "output_type": "stream",
     "text": [
      "user:\n",
      "Create and execute python code to perform a discounted cash flow valuation using the given data in csv. Make generic assumptions\n",
      "\n",
      "assistant:\n",
      "Certainly, to perform a discounted cash flow valuation using the given CSV data and generic assumptions, let's outline the steps and code needed to calculate the DCF:\n",
      "\n",
      "1. We will use the financial projections provided in the CSV data (already loaded).\n",
      "2. We will assume a terminal growth rate after 2028.\n",
      "3. We will assume a market-based weighted average cost of capital (WACC) for the discount rate.\n",
      "4. Calculate the terminal value using the perpetuity growth model.\n",
      "5. Discount the future cash flows and the terminal value to the present value using the WACC.\n",
      "6. Sum all the discounted future cash flows and the discounted terminal value to get the enterprise value.\n",
      "7. Subtract the net debt to get the equity value.\n",
      "\n",
      "For the assumptions, we will use:\n",
      "- Terminal growth rate: 2.5% (a common assumption for mature companies)\n",
      "- WACC: 8% (a common assumption for discount rate; could vary based on industry and company risk)\n",
      "- Net debt: $0 (assumption that the company is debt-free for simplicity)\n",
      "- Non-operating assets: $0 (assumption that there are no significant non-operating assets)\n",
      "\n",
      "Let’s write and execute the python code to perform these DCF steps.\n",
      "\n",
      "assistant:\n",
      "Using the financial projections from the CSV file and our generic assumptions for the discounted cash flow (DCF) valuation, we have calculated the following:\n",
      "\n",
      "- The Total Enterprise Value is approximately **$448,984**.\n",
      "- Since we assumed that the company is debt-free and has no significant non-operating assets, the Equity Value is also approximately **$448,984**.\n",
      "\n",
      "This Equity Value represents the intrinsic value of the company based on a DCF valuation approach, incorporating the projections provided and the assumptions of a 2.5% terminal growth rate and an 8% WACC as our discount rate. As always with DCF valuations, be aware that changes in assumptions could materially affect the valuation output.\n",
      "\n"
     ]
    }
   ],
   "source": [
    "process_message(\"Create and execute python code to perform a discounted cash flow valuation using the given data in csv. Make generic assumptions\")"
   ]
  },
  {
   "cell_type": "markdown",
   "metadata": {},
   "source": [
    "### Delete the thread and assistant"
   ]
  },
  {
   "cell_type": "code",
   "execution_count": 11,
   "metadata": {},
   "outputs": [],
   "source": [
    "for entity in [(client.beta.assistants, assistant), (client.beta.threads, thread)]:\n",
    "    entity[0].delete(entity[1].id)\n",
    "\n",
    "for file in assistant_files:\n",
    "    client.files.delete(file.id)"
   ]
  }
 ],
 "metadata": {
  "kernelspec": {
   "display_name": "Python 3 (ipykernel)",
   "language": "python",
   "name": "python3"
  },
  "language_info": {
   "codemirror_mode": {
    "name": "ipython",
    "version": 3
   },
   "file_extension": ".py",
   "mimetype": "text/x-python",
   "name": "python",
   "nbconvert_exporter": "python",
   "pygments_lexer": "ipython3",
   "version": "3.12.1"
  }
 },
 "nbformat": 4,
 "nbformat_minor": 4
}
