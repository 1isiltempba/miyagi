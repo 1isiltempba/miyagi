{
 "cells": [
  {
   "cell_type": "markdown",
   "metadata": {},
   "source": [
    "# Equity Analyst Agent with Assistants API and Function calling\n",
    "\n",
    "### This notebook showcases the capabilities of Azure OpenAI's Assistants API for an Equity Analyst Agent. "
   ]
  },
  {
   "cell_type": "markdown",
   "metadata": {},
   "source": [
    "Install the necessary Python packages (openai, matplotlib, tenacity, python-dotenv) for the notebook to function."
   ]
  },
  {
   "cell_type": "code",
   "execution_count": null,
   "metadata": {},
   "outputs": [],
   "source": [
    "%pip install openai matplotlib tenacity python-dotenv"
   ]
  },
  {
   "cell_type": "markdown",
   "metadata": {},
   "source": [
    "Imports the necessary Python modules and classes used in the notebook. Note the openai module is used to interact with the Assistants API."
   ]
  },
  {
   "cell_type": "code",
   "execution_count": null,
   "metadata": {},
   "outputs": [],
   "source": [
    "import os\n",
    "import html\n",
    "from pathlib import Path\n",
    "from dotenv import load_dotenv\n",
    "from openai import AzureOpenAI\n",
    "from tenacity import RetryError\n",
    "\n",
    "from azure_ai_util import AzureAIUtils, NotCompletedException"
   ]
  },
  {
   "cell_type": "markdown",
   "metadata": {},
   "source": [
    "### Initialize Azure OpenAI Client\n",
    "This cell crucial for establishing communication with Azure OpenAI services. \n",
    "\n",
    "- **Requirement**: Ensure that a `.env` file exists in the same directory as this notebook. This file should contain the necessary API credentials and configuration details, which you can obtain from https://ai.azure.com "
   ]
  },
  {
   "cell_type": "code",
   "execution_count": null,
   "metadata": {},
   "outputs": [],
   "source": [
    "load_dotenv(\".env\")\n",
    "client = AzureOpenAI(api_key=os.getenv(\"OPENAI_API_KEY\"), \n",
    "                     azure_endpoint=os.getenv(\"OPENAI_ENDPOINT\"),\n",
    "                     api_version=\"2024-02-15-preview\")\n",
    "\n",
    "utils = AzureAIUtils(client)"
   ]
  },
  {
   "cell_type": "markdown",
   "metadata": {},
   "source": [
    "### Create the assistant with tools and files\n",
    "\n",
    "\n",
    "The `create_assistant` function creates an assistant with tools and files. The function takes the following parameters:\n",
    "- `name`: The name of the assistant.\n",
    "- `instructions`: The system message (or meta prompt) that gives the assistant a persona and context.\n",
    "- `tools`: A list of tools that the assistant can use to perform tasks. Currently, these are `code_intrepreter` and `retriever`.\n",
    "- `functions`: Custom functions that the assistant can use to perform tasks. Similar to function calling feature.\n",
    "- `model`: The name of the model to use for the assistant."
   ]
  },
  {
   "cell_type": "code",
   "execution_count": null,
   "metadata": {},
   "outputs": [],
   "source": [
    "DATA_COLLECTION_LOGIC_APPS_URI = os.getenv(\"DATA_COLLECTION_LOGIC_APPS_URI\")\n",
    "\n",
    "def get_proprietary_data(ticker: str, data_type: str, email: str) -> None:\n",
    "    json_payload = {\"ticker\": ticker, \"data_type\": data_type, \"email\": email}\n",
    "    headers = {\"Content-Type\": \"application/json\"}\n",
    "    response = requests.post(DATA_COLLECTION_LOGIC_APPS_URI, json=json_payload, headers=headers)\n",
    "    if response.status_code == 202:\n",
    "        print(\"Email sent to: \" + json_payload[\"to\"])\n",
    "\n",
    "def get_current_share_price(ticker: str) -> float:\n",
    "    stock = yf.Ticker(ticker)\n",
    "    return stock.history(period=\"1d\")[\"Close\"].iloc[-1]"
   ]
  },
  {
   "cell_type": "code",
   "execution_count": null,
   "metadata": {},
   "outputs": [],
   "source": [
    "# Fetch the files under the datasets directory\n",
    "DATASETS = \"datasets/\"\n",
    "\n",
    "assistant_files = [utils.upload_file(Path(DATASETS) / file) for file in os.listdir(DATASETS)]\n",
    "file_ids = [file.id for file in assistant_files]"
   ]
  },
  {
   "cell_type": "markdown",
   "metadata": {},
   "source": [
    "Create the assistant with tools and files"
   ]
  },
  {
   "cell_type": "code",
   "execution_count": null,
   "metadata": {},
   "outputs": [],
   "source": [
    "tools_list = [\n",
    "    {\"type\": \"code_interpreter\"},\n",
    "    {\n",
    "        \"type\": \"function\",\n",
    "        \"function\": {\n",
    "            \"name\": \"get_proprietary_data\",\n",
    "            \"description\": \"Gets proprietary data from a Logic Apps workflow and notifies the user via email.\",\n",
    "            \"parameters\": {\n",
    "                \"type\": \"object\",\n",
    "                \"properties\": {\n",
    "                    \"ticker\": {\"type\": \"string\", \"description\": \"The stock ticker symbol.\"},\n",
    "                    \"data_type\": {\"type\": \"string\", \"description\": \"The type of data to retrieve. ARPU, EPS, Margin, etc.\"},\n",
    "                    \"email\": {\"type\": \"string\", \"description\": \"The email address to notify.\"}\n",
    "                },\n",
    "                \"required\": [\"to\", \"content\"],\n",
    "            },\n",
    "        },\n",
    "    },\n",
    "    {\n",
    "        \"type\": \"function\",\n",
    "        \"function\": {\n",
    "            \"name\": \"get_current_share_price\",\n",
    "            \"description\": \"Get the current share price of a stock or symbol.\",\n",
    "            \"parameters\": {\n",
    "                \"type\": \"object\",\n",
    "                \"properties\": {\"ticker\": {\"type\": \"string\", \"description\": \"The ticker of the stock\"}},\n",
    "                \"required\": [\"ticker\"],\n",
    "            },\n",
    "        },\n",
    "    }\n",
    "]"
   ]
  },
  {
   "cell_type": "code",
   "execution_count": null,
   "metadata": {},
   "outputs": [],
   "source": [
    "def call_functions(client: AzureOpenAI, thread: Thread, run: Run) -> None:\n",
    "    print(\"Function Calling\")\n",
    "    required_actions = run.required_action.submit_tool_outputs.model_dump()\n",
    "    print(required_actions)\n",
    "    tool_outputs = []\n",
    "    import json\n",
    "\n",
    "    for action in required_actions[\"tool_calls\"]:\n",
    "        func_name = action[\"function\"][\"name\"]\n",
    "        arguments = json.loads(action[\"function\"][\"arguments\"])\n",
    "\n",
    "        if func_name == \"get_stock_price\":\n",
    "            output = get_current_share_price(ticker=arguments[\"ticker\"])\n",
    "            tool_outputs.append({\"tool_call_id\": action[\"id\"], \"output\": output})\n",
    "        elif func_name == \"send_email\":\n",
    "            print(\"Fetching proprietary data\")\n",
    "            ticker = arguments[\"ticker\"]\n",
    "            data_type = arguments[\"data_type\"]\n",
    "            email = arguments[\"email\"]\n",
    "            get_proprietary_data(ticker, data_type, email)\n",
    "\n",
    "            tool_outputs.append({\"tool_call_id\": action[\"id\"], \"output\": \"Fetched proprietary data and notified user.\"})\n",
    "        else:\n",
    "            raise ValueError(f\"Unknown function: {func_name}\")\n",
    "\n",
    "    print(\"Sending tool outputs to the thread.\")\n",
    "    client.beta.threads.runs.submit_tool_outputs(thread_id=thread.id, run_id=run.id, tool_outputs=tool_outputs)"
   ]
  },
  {
   "cell_type": "code",
   "execution_count": null,
   "metadata": {},
   "outputs": [],
   "source": [
    "assistant = client.beta.assistants.create(\n",
    "    name=\"Equity Analyst\",\n",
    "    instructions=(\"You are an equity analyst that performs analysis on the given datasets. \"\n",
    "                  \"Use the given tools to help you gather data and perform analysis.\"\n",
    "                  \"With your tools, you can retrieve the latest stock price, fetch proprietary data, and notify user.\"),\n",
    "    tools=tools_list,\n",
    "    file_ids=file_ids,\n",
    "    model=os.getenv(\"OPENAI_MODEL_NAME\")\n",
    ")"
   ]
  },
  {
   "cell_type": "markdown",
   "metadata": {},
   "source": [
    "Create a thread, which represents a conversation. It is recommended to create one thread per user. "
   ]
  },
  {
   "cell_type": "code",
   "execution_count": null,
   "metadata": {},
   "outputs": [],
   "source": [
    "thread = client.beta.threads.create()"
   ]
  },
  {
   "cell_type": "markdown",
   "metadata": {},
   "source": [
    "Create a thread run"
   ]
  },
  {
   "cell_type": "code",
   "execution_count": null,
   "metadata": {},
   "outputs": [],
   "source": [
    "def analyst_assistant(content: str):\n",
    "    client.beta.threads.messages.create(thread_id=thread.id, role=\"user\", content=content)\n",
    "\n",
    "    run = client.beta.threads.runs.create(\n",
    "        thread_id=thread.id,\n",
    "        assistant_id=assistant.id,\n",
    "        instructions=f\"You are a equity analyst who maps out the ask of the user to an equity analyst's task and thinks step by step to analyze, including making use of the tools. Make generic assumptions\",\n",
    "    )\n",
    "\n",
    "    try:\n",
    "        run = utils.get_run_lifecycle_status(thread.id, run.id)\n",
    "        messages = client.beta.threads.messages.list(thread_id=thread.id)\n",
    "        utils.format_response(messages)\n",
    "    except RetryError:\n",
    "        print(\"Operation failed or timed out after maximum retries.\")\n",
    "    except NotCompletedException:\n",
    "        print(\"Operation did not complete in the expected status.\")\n"
   ]
  },
  {
   "cell_type": "markdown",
   "metadata": {},
   "source": [
    "### Have the assistant perform a DCF valuation"
   ]
  },
  {
   "cell_type": "code",
   "execution_count": null,
   "metadata": {},
   "outputs": [],
   "source": [
    "analyst_assistant(\"Visualize the data and provide insights on the trends.\")"
   ]
  },
  {
   "cell_type": "code",
   "execution_count": null,
   "metadata": {},
   "outputs": [],
   "source": [
    "analyst_assistant(\"Perform a discounted cash flow valuation using the provided dataset, and print the code along with its executed output that was used for this calculation.\")"
   ]
  },
  {
   "cell_type": "code",
   "execution_count": null,
   "metadata": {},
   "outputs": [],
   "source": [
    "analyst_assistant(\"Summarize and Visualize this information to someone new to finance and investing.\")"
   ]
  },
  {
   "cell_type": "markdown",
   "metadata": {},
   "source": [
    "### Delete the thread and assistant"
   ]
  },
  {
   "cell_type": "code",
   "execution_count": null,
   "metadata": {},
   "outputs": [],
   "source": [
    "for entity in [(client.beta.assistants, assistant), (client.beta.threads, thread)]:\n",
    "    entity[0].delete(entity[1].id)\n",
    "\n",
    "for file in assistant_files:\n",
    "    client.files.delete(file.id)"
   ]
  }
 ],
 "metadata": {
  "kernelspec": {
   "display_name": "Python 3 (ipykernel)",
   "language": "python",
   "name": "python3"
  },
  "language_info": {
   "codemirror_mode": {
    "name": "ipython",
    "version": 3
   },
   "file_extension": ".py",
   "mimetype": "text/x-python",
   "name": "python",
   "nbconvert_exporter": "python",
   "pygments_lexer": "ipython3",
   "version": "3.12.1"
  }
 },
 "nbformat": 4,
 "nbformat_minor": 4
}
